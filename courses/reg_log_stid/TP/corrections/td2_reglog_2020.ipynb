{
 "cells": [
  {
   "cell_type": "markdown",
   "metadata": {},
   "source": [
    "# TD 2 Titanic"
   ]
  },
  {
   "cell_type": "code",
   "execution_count": 1,
   "metadata": {
    "collapsed": true
   },
   "outputs": [],
   "source": [
    "sigmoid <- function(x) {\n",
    "  return (exp(x)/(1+exp(x)))\n",
    "}"
   ]
  },
  {
   "cell_type": "code",
   "execution_count": 2,
   "metadata": {
    "collapsed": false
   },
   "outputs": [
    {
     "data": {
      "text/html": [
       "0.785744087899288"
      ],
      "text/latex": [
       "0.785744087899288"
      ],
      "text/markdown": [
       "0.785744087899288"
      ],
      "text/plain": [
       "[1] 0.7857441"
      ]
     },
     "metadata": {},
     "output_type": "display_data"
    }
   ],
   "source": [
    "sigmoid(1.29946)"
   ]
  },
  {
   "cell_type": "code",
   "execution_count": 3,
   "metadata": {
    "collapsed": false
   },
   "outputs": [
    {
     "data": {
      "text/html": [
       "0.00908618637071717"
      ],
      "text/latex": [
       "0.00908618637071717"
      ],
      "text/markdown": [
       "0.00908618637071717"
      ],
      "text/plain": [
       "[1] 0.009086186"
      ]
     },
     "metadata": {},
     "output_type": "display_data"
    }
   ],
   "source": [
    "exp(-1.721-0.70-0.19*12)"
   ]
  },
  {
   "cell_type": "markdown",
   "metadata": {},
   "source": [
    "## Partie 1"
   ]
  },
  {
   "cell_type": "markdown",
   "metadata": {},
   "source": [
    "#### Q1."
   ]
  },
  {
   "cell_type": "code",
   "execution_count": 4,
   "metadata": {
    "collapsed": false
   },
   "outputs": [],
   "source": [
    "df <- read.table(\"titanic.csv\", sep=\";\", header=TRUE, dec=\",\", na.strings = \"\")"
   ]
  },
  {
   "cell_type": "markdown",
   "metadata": {},
   "source": [
    "#### Q2."
   ]
  },
  {
   "cell_type": "code",
   "execution_count": 5,
   "metadata": {
    "collapsed": false
   },
   "outputs": [
    {
     "data": {
      "text/html": [
       "'integer'"
      ],
      "text/latex": [
       "'integer'"
      ],
      "text/markdown": [
       "'integer'"
      ],
      "text/plain": [
       "[1] \"integer\""
      ]
     },
     "metadata": {},
     "output_type": "display_data"
    },
    {
     "data": {
      "text/html": [
       "'factor'"
      ],
      "text/latex": [
       "'factor'"
      ],
      "text/markdown": [
       "'factor'"
      ],
      "text/plain": [
       "[1] \"factor\""
      ]
     },
     "metadata": {},
     "output_type": "display_data"
    }
   ],
   "source": [
    "class(df$pclass)\n",
    "df$pclass <- factor(df$pclass)\n",
    "class(df$pclass)"
   ]
  },
  {
   "cell_type": "code",
   "execution_count": 6,
   "metadata": {
    "collapsed": false
   },
   "outputs": [],
   "source": [
    "df$embarked <- factor(df$embarked)\n",
    "df$sex <- factor(df$sex)"
   ]
  },
  {
   "cell_type": "code",
   "execution_count": 7,
   "metadata": {
    "collapsed": true
   },
   "outputs": [],
   "source": [
    "df$survived <- factor(df$survived)"
   ]
  },
  {
   "cell_type": "markdown",
   "metadata": {},
   "source": [
    "#### Q3."
   ]
  },
  {
   "cell_type": "code",
   "execution_count": 8,
   "metadata": {
    "collapsed": true
   },
   "outputs": [],
   "source": [
    "df <- df[complete.cases(df),]"
   ]
  },
  {
   "cell_type": "code",
   "execution_count": 9,
   "metadata": {
    "collapsed": false
   },
   "outputs": [
    {
     "data": {
      "text/html": [
       "1044"
      ],
      "text/latex": [
       "1044"
      ],
      "text/markdown": [
       "1044"
      ],
      "text/plain": [
       "[1] 1044"
      ]
     },
     "metadata": {},
     "output_type": "display_data"
    }
   ],
   "source": [
    "nrow(df)"
   ]
  },
  {
   "cell_type": "markdown",
   "metadata": {},
   "source": [
    "## Partie 2"
   ]
  },
  {
   "cell_type": "markdown",
   "metadata": {},
   "source": [
    "#### Q1"
   ]
  },
  {
   "cell_type": "code",
   "execution_count": 10,
   "metadata": {
    "collapsed": true
   },
   "outputs": [],
   "source": [
    "df$survived <- relevel(df$survived, ref=\"0\")"
   ]
  },
  {
   "cell_type": "markdown",
   "metadata": {},
   "source": [
    "On modélise la probabilité de survivre au naufrage du titanic. Si on note $P(Y=1|x)$ la probabilité de survie sachant nos données alors on va modéliser cette probabilité par $\\pi(x)=\\sigma(\\beta_{0}+\\beta_{1}x_{1}+...+\\beta_{p}x_{p})$.\n",
    "\n",
    "Dire ref=0 ça veut dire que nos valeurs 0 représente $P(Y=0|x)$"
   ]
  },
  {
   "cell_type": "markdown",
   "metadata": {},
   "source": [
    "#### Q2 "
   ]
  },
  {
   "cell_type": "code",
   "execution_count": 11,
   "metadata": {
    "collapsed": false
   },
   "outputs": [
    {
     "data": {
      "text/plain": [
       "\n",
       "  0   1 \n",
       "619 425 "
      ]
     },
     "metadata": {},
     "output_type": "display_data"
    }
   ],
   "source": [
    "table(df$survived)"
   ]
  },
  {
   "cell_type": "markdown",
   "metadata": {},
   "source": [
    "On a 425 survies et 619 décès"
   ]
  },
  {
   "cell_type": "markdown",
   "metadata": {},
   "source": [
    "#### Q3"
   ]
  },
  {
   "cell_type": "markdown",
   "metadata": {},
   "source": [
    "(a) Le modèle s'écrit $\\pi(x)=\\sigma(\\beta_{0})=\\frac{e^{\\beta_{0}}}{1+e^{\\beta_{0}}}$ \n",
    "\n",
    "On peut aussi l'écrire avec la fonction logit par $\\text{logit}(\\pi(x))=\\beta_{0}$"
   ]
  },
  {
   "cell_type": "code",
   "execution_count": 12,
   "metadata": {
    "collapsed": false
   },
   "outputs": [
    {
     "data": {
      "text/plain": [
       "\n",
       "Call:  glm(formula = survived ~ 1, family = binomial, data = df)\n",
       "\n",
       "Coefficients:\n",
       "(Intercept)  \n",
       "     -0.376  \n",
       "\n",
       "Degrees of Freedom: 1043 Total (i.e. Null);  1043 Residual\n",
       "Null Deviance:\t    1411 \n",
       "Residual Deviance: 1411 \tAIC: 1413"
      ]
     },
     "metadata": {},
     "output_type": "display_data"
    }
   ],
   "source": [
    "surv.null <- glm(survived ~ 1, family = binomial, data = df)\n",
    "surv.null"
   ]
  },
  {
   "cell_type": "markdown",
   "metadata": {},
   "source": [
    "(b) On peut retrouver cette valeur à la main. \n",
    "\n",
    "Indices : $\\pi(x)=P(Y=1|x)$, $\\text{logit}(\\pi(x))=log(\\frac{\\pi(x)}{1-\\pi(x)})=\\beta_{0}$ et $P(Y=1|x)$ représente la probabilité de survie"
   ]
  },
  {
   "cell_type": "code",
   "execution_count": 13,
   "metadata": {
    "collapsed": false
   },
   "outputs": [
    {
     "data": {
      "text/html": [
       "-0.376016103760179"
      ],
      "text/latex": [
       "-0.376016103760179"
      ],
      "text/markdown": [
       "-0.376016103760179"
      ],
      "text/plain": [
       "[1] -0.3760161"
      ]
     },
     "metadata": {},
     "output_type": "display_data"
    }
   ],
   "source": [
    "log((425/(619+425))/(1-425/(619+425)))"
   ]
  },
  {
   "cell_type": "markdown",
   "metadata": {},
   "source": [
    "(c) Si on avait modélisé low=0 alors on aurait modélisé $P(Y=0|x)=1-P(Y=1|x)$. Il suffit donc de changer $\\pi(x)$ en $1-\\pi(x)$. On a donc $log(\\frac{1-\\pi(x)}{\\pi(x)})$ et donc notre nouveau $\\beta_{0}$ est l'opposé du précédent"
   ]
  },
  {
   "cell_type": "code",
   "execution_count": 14,
   "metadata": {
    "collapsed": false
   },
   "outputs": [
    {
     "data": {
      "text/plain": [
       "\n",
       "Call:  glm(formula = survived ~ 1, family = binomial, data = df)\n",
       "\n",
       "Coefficients:\n",
       "(Intercept)  \n",
       "      0.376  \n",
       "\n",
       "Degrees of Freedom: 1043 Total (i.e. Null);  1043 Residual\n",
       "Null Deviance:\t    1411 \n",
       "Residual Deviance: 1411 \tAIC: 1413"
      ]
     },
     "metadata": {},
     "output_type": "display_data"
    }
   ],
   "source": [
    "df$survived <- relevel(df$survived, ref=\"1\")\n",
    "surv.null.2 <- glm(survived ~ 1, family = binomial, data = df)\n",
    "surv.null.2"
   ]
  },
  {
   "cell_type": "markdown",
   "metadata": {},
   "source": [
    "#### Q4"
   ]
  },
  {
   "cell_type": "markdown",
   "metadata": {},
   "source": [
    "(a) Le modèle s'écrit $\\pi(\\text{age})=\\sigma(\\beta_{0}+\\beta_{1}\\text{age})=\\frac{e^{\\beta_{0}+\\beta_{1}\\text{age}}}{1+e^{\\beta_{0}+\\beta_{1}\\text{age}}}$ où $\\text{age}$ est l'âge"
   ]
  },
  {
   "cell_type": "code",
   "execution_count": 15,
   "metadata": {
    "collapsed": false,
    "scrolled": true
   },
   "outputs": [
    {
     "data": {
      "text/plain": [
       "\n",
       "Call:\n",
       "glm(formula = survived ~ age, family = binomial, data = df)\n",
       "\n",
       "Deviance Residuals: \n",
       "    Min       1Q   Median       3Q      Max  \n",
       "-1.1231  -1.0348  -0.9718   1.3196   1.5301  \n",
       "\n",
       "Coefficients:\n",
       "             Estimate Std. Error z value Pr(>|z|)  \n",
       "(Intercept) -0.126359   0.144971  -0.872   0.3834  \n",
       "age         -0.008413   0.004424  -1.902   0.0572 .\n",
       "---\n",
       "Signif. codes:  0 ‘***’ 0.001 ‘**’ 0.01 ‘*’ 0.05 ‘.’ 0.1 ‘ ’ 1\n",
       "\n",
       "(Dispersion parameter for binomial family taken to be 1)\n",
       "\n",
       "    Null deviance: 1411.0  on 1043  degrees of freedom\n",
       "Residual deviance: 1407.4  on 1042  degrees of freedom\n",
       "AIC: 1411.4\n",
       "\n",
       "Number of Fisher Scoring iterations: 4\n"
      ]
     },
     "metadata": {},
     "output_type": "display_data"
    }
   ],
   "source": [
    "df$survived <- relevel(df$survived, ref=\"0\")\n",
    "surv.age <- glm(survived ~ age, family = binomial, data = df)\n",
    "summary(surv.age)"
   ]
  },
  {
   "cell_type": "markdown",
   "metadata": {},
   "source": [
    "(b) Si on modélise le non poids de naissance on change le signe des coefficients (même raisonnement que pour le cas du dessus)"
   ]
  },
  {
   "cell_type": "code",
   "execution_count": 16,
   "metadata": {
    "collapsed": false
   },
   "outputs": [
    {
     "data": {
      "text/plain": [
       "\n",
       "Call:\n",
       "glm(formula = survived ~ age, family = binomial, data = df)\n",
       "\n",
       "Deviance Residuals: \n",
       "    Min       1Q   Median       3Q      Max  \n",
       "-1.5301  -1.3196   0.9718   1.0348   1.1231  \n",
       "\n",
       "Coefficients:\n",
       "            Estimate Std. Error z value Pr(>|z|)  \n",
       "(Intercept) 0.126359   0.144971   0.872   0.3834  \n",
       "age         0.008413   0.004424   1.902   0.0572 .\n",
       "---\n",
       "Signif. codes:  0 ‘***’ 0.001 ‘**’ 0.01 ‘*’ 0.05 ‘.’ 0.1 ‘ ’ 1\n",
       "\n",
       "(Dispersion parameter for binomial family taken to be 1)\n",
       "\n",
       "    Null deviance: 1411.0  on 1043  degrees of freedom\n",
       "Residual deviance: 1407.4  on 1042  degrees of freedom\n",
       "AIC: 1411.4\n",
       "\n",
       "Number of Fisher Scoring iterations: 4\n"
      ]
     },
     "metadata": {},
     "output_type": "display_data"
    }
   ],
   "source": [
    "df$survived <- relevel(df$survived, ref=\"1\")\n",
    "surv.age.2 <- glm(survived ~ age, family = binomial, data = df)\n",
    "summary(surv.age.2)\n",
    "df$survived <- relevel(df$survived, ref=\"0\")"
   ]
  },
  {
   "cell_type": "code",
   "execution_count": 17,
   "metadata": {
    "collapsed": false
   },
   "outputs": [
    {
     "data": {
      "text/html": [
       "0.410494141703391"
      ],
      "text/latex": [
       "0.410494141703391"
      ],
      "text/markdown": [
       "0.410494141703391"
      ],
      "text/plain": [
       "[1] 0.4104941"
      ]
     },
     "metadata": {},
     "output_type": "display_data"
    }
   ],
   "source": [
    "sigmoid(-0.126359-0.008413*28)"
   ]
  },
  {
   "cell_type": "code",
   "execution_count": 18,
   "metadata": {
    "collapsed": false
   },
   "outputs": [
    {
     "data": {
      "text/html": [
       "0.426873437326815"
      ],
      "text/latex": [
       "0.426873437326815"
      ],
      "text/markdown": [
       "0.426873437326815"
      ],
      "text/plain": [
       "[1] 0.4268734"
      ]
     },
     "metadata": {},
     "output_type": "display_data"
    }
   ],
   "source": [
    "sigmoid(-0.126359-0.008413*20)"
   ]
  },
  {
   "cell_type": "markdown",
   "metadata": {},
   "source": [
    "(d) "
   ]
  },
  {
   "cell_type": "code",
   "execution_count": 19,
   "metadata": {
    "collapsed": false
   },
   "outputs": [
    {
     "data": {
      "text/html": [
       "<strong>1:</strong> 0.410494084342278"
      ],
      "text/latex": [
       "\\textbf{1:} 0.410494084342278"
      ],
      "text/markdown": [
       "**1:** 0.410494084342278"
      ],
      "text/plain": [
       "        1 \n",
       "0.4104941 "
      ]
     },
     "metadata": {},
     "output_type": "display_data"
    }
   ],
   "source": [
    "newdata = data.frame(age = 28)\n",
    "lin = predict(surv.age, newdata)\n",
    "exp(lin)/(1+exp(lin))"
   ]
  },
  {
   "cell_type": "code",
   "execution_count": 20,
   "metadata": {
    "collapsed": true
   },
   "outputs": [],
   "source": [
    "df$survived <- relevel(df$survived, ref=\"0\")\n"
   ]
  },
  {
   "cell_type": "markdown",
   "metadata": {},
   "source": [
    "#### Q5 "
   ]
  },
  {
   "cell_type": "markdown",
   "metadata": {},
   "source": [
    "(a) $\\pi(x)=\\sigma(\\beta_{0}+\\beta_{1}\\mathbb{I}_{\\text{femme}}(x))$"
   ]
  },
  {
   "cell_type": "code",
   "execution_count": 21,
   "metadata": {
    "collapsed": false
   },
   "outputs": [
    {
     "data": {
      "text/plain": [
       "\n",
       "Call:\n",
       "glm(formula = survived ~ sex, family = binomial, data = df)\n",
       "\n",
       "Deviance Residuals: \n",
       "    Min       1Q   Median       3Q      Max  \n",
       "-1.6682  -0.6777  -0.6777   0.7562   1.7798  \n",
       "\n",
       "Coefficients:\n",
       "            Estimate Std. Error z value Pr(>|z|)    \n",
       "(Intercept) -1.35431    0.09654  -14.03   <2e-16 ***\n",
       "sexfemale    2.45984    0.15226   16.16   <2e-16 ***\n",
       "---\n",
       "Signif. codes:  0 ‘***’ 0.001 ‘**’ 0.01 ‘*’ 0.05 ‘.’ 0.1 ‘ ’ 1\n",
       "\n",
       "(Dispersion parameter for binomial family taken to be 1)\n",
       "\n",
       "    Null deviance: 1411.0  on 1043  degrees of freedom\n",
       "Residual deviance: 1100.9  on 1042  degrees of freedom\n",
       "AIC: 1104.9\n",
       "\n",
       "Number of Fisher Scoring iterations: 4\n"
      ]
     },
     "metadata": {},
     "output_type": "display_data"
    }
   ],
   "source": [
    "df$sex<- relevel(df$sex, ref='male')\n",
    "surv.sex <- glm(survived ~ sex, family = binomial, data = df)\n",
    "summary(surv.sex)"
   ]
  },
  {
   "cell_type": "code",
   "execution_count": 22,
   "metadata": {
    "collapsed": false
   },
   "outputs": [
    {
     "data": {
      "text/html": [
       "0.205217190104952"
      ],
      "text/latex": [
       "0.205217190104952"
      ],
      "text/markdown": [
       "0.205217190104952"
      ],
      "text/plain": [
       "[1] 0.2052172"
      ]
     },
     "metadata": {},
     "output_type": "display_data"
    }
   ],
   "source": [
    "sigmoid(-1.354)"
   ]
  },
  {
   "cell_type": "markdown",
   "metadata": {},
   "source": [
    "(b)"
   ]
  },
  {
   "cell_type": "code",
   "execution_count": 23,
   "metadata": {
    "collapsed": false
   },
   "outputs": [
    {
     "data": {
      "text/plain": [
       "\n",
       "Call:\n",
       "glm(formula = survived ~ sex, family = binomial, data = df)\n",
       "\n",
       "Deviance Residuals: \n",
       "    Min       1Q   Median       3Q      Max  \n",
       "-1.6682  -0.6777  -0.6777   0.7562   1.7798  \n",
       "\n",
       "Coefficients:\n",
       "            Estimate Std. Error z value Pr(>|z|)    \n",
       "(Intercept)   1.1055     0.1177   9.389   <2e-16 ***\n",
       "sexmale      -2.4598     0.1523 -16.155   <2e-16 ***\n",
       "---\n",
       "Signif. codes:  0 ‘***’ 0.001 ‘**’ 0.01 ‘*’ 0.05 ‘.’ 0.1 ‘ ’ 1\n",
       "\n",
       "(Dispersion parameter for binomial family taken to be 1)\n",
       "\n",
       "    Null deviance: 1411.0  on 1043  degrees of freedom\n",
       "Residual deviance: 1100.9  on 1042  degrees of freedom\n",
       "AIC: 1104.9\n",
       "\n",
       "Number of Fisher Scoring iterations: 4\n"
      ]
     },
     "metadata": {},
     "output_type": "display_data"
    }
   ],
   "source": [
    "df$sex<- relevel(df$sex, ref='female')\n",
    "surv.sex.2 <- glm(survived ~ sex, family = binomial, data = df)\n",
    "summary(surv.sex.2)"
   ]
  },
  {
   "cell_type": "code",
   "execution_count": 24,
   "metadata": {
    "collapsed": false
   },
   "outputs": [
    {
     "data": {
      "text/html": [
       "0.751289220832718"
      ],
      "text/latex": [
       "0.751289220832718"
      ],
      "text/markdown": [
       "0.751289220832718"
      ],
      "text/plain": [
       "[1] 0.7512892"
      ]
     },
     "metadata": {},
     "output_type": "display_data"
    }
   ],
   "source": [
    "sigmoid(1.1055)"
   ]
  },
  {
   "cell_type": "code",
   "execution_count": 25,
   "metadata": {
    "collapsed": false
   },
   "outputs": [
    {
     "data": {
      "text/html": [
       "0.205168263503638"
      ],
      "text/latex": [
       "0.205168263503638"
      ],
      "text/markdown": [
       "0.205168263503638"
      ],
      "text/plain": [
       "[1] 0.2051683"
      ]
     },
     "metadata": {},
     "output_type": "display_data"
    }
   ],
   "source": [
    "sigmoid(1.1055-2.4598)"
   ]
  },
  {
   "cell_type": "code",
   "execution_count": 26,
   "metadata": {
    "collapsed": false
   },
   "outputs": [
    {
     "data": {
      "text/html": [
       "0.794129628199053"
      ],
      "text/latex": [
       "0.794129628199053"
      ],
      "text/markdown": [
       "0.794129628199053"
      ],
      "text/plain": [
       "[1] 0.7941296"
      ]
     },
     "metadata": {},
     "output_type": "display_data"
    }
   ],
   "source": [
    "sigmoid(1.35)"
   ]
  },
  {
   "cell_type": "markdown",
   "metadata": {},
   "source": [
    "(c) On a plusieurs cas à considérer\n",
    "\n",
    "Dans le cas du premier modèle (sexe=homme) :\n",
    "\n",
    "- Soit sexe=homme alors $\\text{logit}(\\pi(x))=\\beta_{0}$\n",
    "\n",
    "- Soit sexe=femme alors $\\text{logit}(\\pi(x))=\\beta_{0}+\\beta_{1}$\n",
    "\n",
    "Dans le cas du deuxième modèle (sexe=femme) :\n",
    "\n",
    "- Soit sexe=homme alors $\\text{logit}(\\pi(x))=\\beta_{0}+\\beta_{1}$\n",
    "\n",
    "- Soit sexe=femme alors $\\text{logit}(\\pi(x))=\\beta_{0}$\n",
    "\n",
    "\n",
    "Dans le premier cas :"
   ]
  },
  {
   "cell_type": "code",
   "execution_count": 27,
   "metadata": {
    "collapsed": false
   },
   "outputs": [
    {
     "data": {
      "text/html": [
       "0.205166632765974"
      ],
      "text/latex": [
       "0.205166632765974"
      ],
      "text/markdown": [
       "0.205166632765974"
      ],
      "text/plain": [
       "[1] 0.2051666"
      ]
     },
     "metadata": {},
     "output_type": "display_data"
    }
   ],
   "source": [
    "sigmoid(-1.35431)"
   ]
  },
  {
   "cell_type": "code",
   "execution_count": 28,
   "metadata": {
    "collapsed": false
   },
   "outputs": [
    {
     "data": {
      "text/html": [
       "0.205168263503638"
      ],
      "text/latex": [
       "0.205168263503638"
      ],
      "text/markdown": [
       "0.205168263503638"
      ],
      "text/plain": [
       "[1] 0.2051683"
      ]
     },
     "metadata": {},
     "output_type": "display_data"
    }
   ],
   "source": [
    "sigmoid(1.1055-2.4598)"
   ]
  },
  {
   "cell_type": "markdown",
   "metadata": {},
   "source": [
    "On a bien les mêmes modèles ! Ce qui est normal c'est juste une modélisation différente mais on a la même information"
   ]
  },
  {
   "cell_type": "markdown",
   "metadata": {},
   "source": [
    "(d) "
   ]
  },
  {
   "cell_type": "code",
   "execution_count": 29,
   "metadata": {
    "collapsed": false
   },
   "outputs": [
    {
     "data": {
      "text/html": [
       "<strong>1:</strong> 0.751295336787017"
      ],
      "text/latex": [
       "\\textbf{1:} 0.751295336787017"
      ],
      "text/markdown": [
       "**1:** 0.751295336787017"
      ],
      "text/plain": [
       "        1 \n",
       "0.7512953 "
      ]
     },
     "metadata": {},
     "output_type": "display_data"
    }
   ],
   "source": [
    "newdata = data.frame(sex=factor('female', levels = c('male', 'female')))\n",
    "lin = predict(surv.sex, newdata)\n",
    "exp(lin)/(1+exp(lin))"
   ]
  },
  {
   "cell_type": "markdown",
   "metadata": {},
   "source": [
    "(e)"
   ]
  },
  {
   "cell_type": "code",
   "execution_count": 30,
   "metadata": {
    "collapsed": false
   },
   "outputs": [
    {
     "data": {
      "text/plain": [
       "   \n",
       "    female male\n",
       "  0     96  523\n",
       "  1    290  135"
      ]
     },
     "metadata": {},
     "output_type": "display_data"
    }
   ],
   "source": [
    "table(df$survived, df$sex)"
   ]
  },
  {
   "cell_type": "code",
   "execution_count": 31,
   "metadata": {
    "collapsed": false
   },
   "outputs": [
    {
     "data": {
      "text/html": [
       "1.10553273151268"
      ],
      "text/latex": [
       "1.10553273151268"
      ],
      "text/markdown": [
       "1.10553273151268"
      ],
      "text/plain": [
       "[1] 1.105533"
      ]
     },
     "metadata": {},
     "output_type": "display_data"
    }
   ],
   "source": [
    "log((290/(96+290))/(1-(290/(96+290))))"
   ]
  },
  {
   "cell_type": "markdown",
   "metadata": {},
   "source": [
    "#### Q6"
   ]
  },
  {
   "cell_type": "markdown",
   "metadata": {},
   "source": [
    "(a) $\\pi(x)=\\sigma(\\beta_{0}+\\beta_{1}\\mathbb{I}_{\\text{pclass=2}}(x)+\\beta_{2}\\mathbb{I}_{\\text{pclass=3}}(x))$"
   ]
  },
  {
   "cell_type": "code",
   "execution_count": 32,
   "metadata": {
    "collapsed": false
   },
   "outputs": [
    {
     "data": {
      "text/plain": [
       "\n",
       "Call:\n",
       "glm(formula = survived ~ pclass, family = binomial, data = df)\n",
       "\n",
       "Deviance Residuals: \n",
       "    Min       1Q   Median       3Q      Max  \n",
       "-1.4193  -0.7786  -0.7786   0.9534   1.6379  \n",
       "\n",
       "Coefficients:\n",
       "            Estimate Std. Error z value Pr(>|z|)    \n",
       "(Intercept)   0.5527     0.1237   4.469 7.87e-06 ***\n",
       "pclass2      -0.7913     0.1756  -4.506 6.60e-06 ***\n",
       "pclass3      -1.5910     0.1601  -9.937  < 2e-16 ***\n",
       "---\n",
       "Signif. codes:  0 ‘***’ 0.001 ‘**’ 0.01 ‘*’ 0.05 ‘.’ 0.1 ‘ ’ 1\n",
       "\n",
       "(Dispersion parameter for binomial family taken to be 1)\n",
       "\n",
       "    Null deviance: 1411.0  on 1043  degrees of freedom\n",
       "Residual deviance: 1304.1  on 1041  degrees of freedom\n",
       "AIC: 1310.1\n",
       "\n",
       "Number of Fisher Scoring iterations: 4\n"
      ]
     },
     "metadata": {},
     "output_type": "display_data"
    }
   ],
   "source": [
    "df$pclass<- relevel(df$pclass, ref='1')\n",
    "surv.pclass <- glm(survived ~ pclass, family = binomial, data = df)\n",
    "summary(surv.pclass)"
   ]
  },
  {
   "cell_type": "markdown",
   "metadata": {},
   "source": [
    "(b) $\\pi(x)=\\sigma(\\beta_{0}+\\beta_{1}\\mathbb{I}_{\\text{pclass=1}}(x)+\\beta_{2}\\mathbb{I}_{\\text{pclass=3}}(x))$"
   ]
  },
  {
   "cell_type": "code",
   "execution_count": 33,
   "metadata": {
    "collapsed": false
   },
   "outputs": [
    {
     "data": {
      "text/plain": [
       "\n",
       "Call:\n",
       "glm(formula = survived ~ pclass, family = binomial, data = df)\n",
       "\n",
       "Deviance Residuals: \n",
       "    Min       1Q   Median       3Q      Max  \n",
       "-1.4193  -0.7786  -0.7786   0.9534   1.6379  \n",
       "\n",
       "Coefficients:\n",
       "            Estimate Std. Error z value Pr(>|z|)    \n",
       "(Intercept)  -0.2387     0.1247  -1.914   0.0556 .  \n",
       "pclass1       0.7913     0.1756   4.506 6.60e-06 ***\n",
       "pclass3      -0.7996     0.1609  -4.970 6.68e-07 ***\n",
       "---\n",
       "Signif. codes:  0 ‘***’ 0.001 ‘**’ 0.01 ‘*’ 0.05 ‘.’ 0.1 ‘ ’ 1\n",
       "\n",
       "(Dispersion parameter for binomial family taken to be 1)\n",
       "\n",
       "    Null deviance: 1411.0  on 1043  degrees of freedom\n",
       "Residual deviance: 1304.1  on 1041  degrees of freedom\n",
       "AIC: 1310.1\n",
       "\n",
       "Number of Fisher Scoring iterations: 4\n"
      ]
     },
     "metadata": {},
     "output_type": "display_data"
    }
   ],
   "source": [
    "df$pclass<- relevel(df$pclass, ref='2')\n",
    "surv.pclass.2 <- glm(survived ~ pclass, family = binomial, data = df)\n",
    "summary(surv.pclass.2)"
   ]
  },
  {
   "cell_type": "markdown",
   "metadata": {},
   "source": [
    "(c) $\\pi(x)=\\sigma(\\beta_{0}+\\beta_{1}\\mathbb{I}_{\\text{pclass=1}}(x)+\\beta_{2}\\mathbb{I}_{\\text{pclass=2}}(x))$"
   ]
  },
  {
   "cell_type": "code",
   "execution_count": 34,
   "metadata": {
    "collapsed": false
   },
   "outputs": [
    {
     "data": {
      "text/plain": [
       "\n",
       "Call:\n",
       "glm(formula = survived ~ pclass, family = binomial, data = df)\n",
       "\n",
       "Deviance Residuals: \n",
       "    Min       1Q   Median       3Q      Max  \n",
       "-1.4193  -0.7786  -0.7786   0.9534   1.6379  \n",
       "\n",
       "Coefficients:\n",
       "            Estimate Std. Error z value Pr(>|z|)    \n",
       "(Intercept)  -1.0383     0.1017 -10.213  < 2e-16 ***\n",
       "pclass2       0.7996     0.1609   4.970 6.68e-07 ***\n",
       "pclass1       1.5910     0.1601   9.937  < 2e-16 ***\n",
       "---\n",
       "Signif. codes:  0 ‘***’ 0.001 ‘**’ 0.01 ‘*’ 0.05 ‘.’ 0.1 ‘ ’ 1\n",
       "\n",
       "(Dispersion parameter for binomial family taken to be 1)\n",
       "\n",
       "    Null deviance: 1411.0  on 1043  degrees of freedom\n",
       "Residual deviance: 1304.1  on 1041  degrees of freedom\n",
       "AIC: 1310.1\n",
       "\n",
       "Number of Fisher Scoring iterations: 4\n"
      ]
     },
     "metadata": {},
     "output_type": "display_data"
    }
   ],
   "source": [
    "df$pclass<- relevel(df$pclass, ref='3')\n",
    "surv.pclass.3 <- glm(survived ~ pclass, family = binomial, data = df)\n",
    "summary(surv.pclass.3)"
   ]
  },
  {
   "cell_type": "code",
   "execution_count": 35,
   "metadata": {
    "collapsed": false
   },
   "outputs": [
    {
     "data": {
      "text/html": [
       "1.44927536231884"
      ],
      "text/latex": [
       "1.44927536231884"
      ],
      "text/markdown": [
       "1.44927536231884"
      ],
      "text/plain": [
       "[1] 1.449275"
      ]
     },
     "metadata": {},
     "output_type": "display_data"
    }
   ],
   "source": [
    "1/0.69"
   ]
  },
  {
   "cell_type": "code",
   "execution_count": 36,
   "metadata": {
    "collapsed": false
   },
   "outputs": [
    {
     "data": {
      "text/html": [
       "<strong>1:</strong> 0.261477045908757"
      ],
      "text/latex": [
       "\\textbf{1:} 0.261477045908757"
      ],
      "text/markdown": [
       "**1:** 0.261477045908757"
      ],
      "text/plain": [
       "       1 \n",
       "0.261477 "
      ]
     },
     "metadata": {},
     "output_type": "display_data"
    }
   ],
   "source": [
    "newdata = data.frame(pclass = '3')\n",
    "lin = predict(surv.pclass, newdata)\n",
    "exp(lin)/(1+exp(lin))"
   ]
  },
  {
   "cell_type": "code",
   "execution_count": 37,
   "metadata": {
    "collapsed": false
   },
   "outputs": [
    {
     "data": {
      "text/html": [
       "<strong>1:</strong> 0.440613026819932"
      ],
      "text/latex": [
       "\\textbf{1:} 0.440613026819932"
      ],
      "text/markdown": [
       "**1:** 0.440613026819932"
      ],
      "text/plain": [
       "       1 \n",
       "0.440613 "
      ]
     },
     "metadata": {},
     "output_type": "display_data"
    }
   ],
   "source": [
    "newdata = data.frame(pclass = '2')\n",
    "lin = predict(surv.pclass, newdata)\n",
    "exp(lin)/(1+exp(lin))"
   ]
  },
  {
   "cell_type": "code",
   "execution_count": 38,
   "metadata": {
    "collapsed": false
   },
   "outputs": [
    {
     "data": {
      "text/html": [
       "<strong>1:</strong> 0.634751773049638"
      ],
      "text/latex": [
       "\\textbf{1:} 0.634751773049638"
      ],
      "text/markdown": [
       "**1:** 0.634751773049638"
      ],
      "text/plain": [
       "        1 \n",
       "0.6347518 "
      ]
     },
     "metadata": {},
     "output_type": "display_data"
    }
   ],
   "source": [
    "newdata = data.frame(pclass = '1')\n",
    "lin = predict(surv.pclass, newdata)\n",
    "exp(lin)/(1+exp(lin))"
   ]
  }
 ],
 "metadata": {
  "anaconda-cloud": {},
  "kernelspec": {
   "display_name": "R",
   "language": "R",
   "name": "ir"
  },
  "language_info": {
   "codemirror_mode": "r",
   "file_extension": ".r",
   "mimetype": "text/x-r-source",
   "name": "R",
   "pygments_lexer": "r",
   "version": "3.3.1"
  }
 },
 "nbformat": 4,
 "nbformat_minor": 1
}
