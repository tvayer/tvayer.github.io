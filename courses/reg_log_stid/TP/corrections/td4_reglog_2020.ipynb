{
 "cells": [
  {
   "cell_type": "markdown",
   "metadata": {},
   "source": [
    "# TD4"
   ]
  },
  {
   "cell_type": "code",
   "execution_count": 59,
   "metadata": {
    "collapsed": true
   },
   "outputs": [],
   "source": [
    "sigmoid <- function(x) {\n",
    "  return (exp(x)/(1+exp(x)))\n",
    "}"
   ]
  },
  {
   "cell_type": "code",
   "execution_count": 60,
   "metadata": {
    "collapsed": true
   },
   "outputs": [],
   "source": [
    "df <- read.table(\"titanic.csv\", sep=\";\", header=TRUE, dec=\",\", na.strings = \"\")\n",
    "df$pclass <- factor(df$pclass)\n",
    "df$survived <- factor(df$survived)\n",
    "df <- df[complete.cases(df),]"
   ]
  },
  {
   "cell_type": "code",
   "execution_count": 61,
   "metadata": {
    "collapsed": false
   },
   "outputs": [
    {
     "data": {
      "text/plain": [
       "\n",
       "Call:  glm(formula = survived ~ 1, family = binomial, data = df)\n",
       "\n",
       "Coefficients:\n",
       "(Intercept)  \n",
       "     -0.376  \n",
       "\n",
       "Degrees of Freedom: 1043 Total (i.e. Null);  1043 Residual\n",
       "Null Deviance:\t    1411 \n",
       "Residual Deviance: 1411 \tAIC: 1413"
      ]
     },
     "metadata": {},
     "output_type": "display_data"
    }
   ],
   "source": [
    "surv.null <- glm(survived ~ 1, family = binomial, data = df)\n",
    "surv.null"
   ]
  },
  {
   "cell_type": "code",
   "execution_count": 62,
   "metadata": {
    "collapsed": false
   },
   "outputs": [],
   "source": [
    "surv.all<-glm(survived~pclass+sex+age+sibsp+parch+embarked,family=binomial,data=df)"
   ]
  },
  {
   "cell_type": "code",
   "execution_count": 63,
   "metadata": {
    "collapsed": false
   },
   "outputs": [
    {
     "data": {
      "text/plain": [
       "\n",
       "Call:\n",
       "glm(formula = survived ~ pclass + sex + age + sibsp + parch + \n",
       "    embarked, family = binomial, data = df)\n",
       "\n",
       "Deviance Residuals: \n",
       "    Min       1Q   Median       3Q      Max  \n",
       "-2.5840  -0.6806  -0.4079   0.6572   2.5348  \n",
       "\n",
       "Coefficients:\n",
       "             Estimate Std. Error z value Pr(>|z|)    \n",
       "(Intercept)  4.285885   0.387074  11.073  < 2e-16 ***\n",
       "pclass2     -1.125888   0.243909  -4.616 3.91e-06 ***\n",
       "pclass3     -2.073164   0.239089  -8.671  < 2e-16 ***\n",
       "sexmale     -2.614598   0.179366 -14.577  < 2e-16 ***\n",
       "age         -0.038219   0.006713  -5.693 1.25e-08 ***\n",
       "sibsp       -0.349739   0.108103  -3.235  0.00122 ** \n",
       "parch        0.054818   0.101054   0.542  0.58750    \n",
       "embarkedQ   -1.452119   0.445262  -3.261  0.00111 ** \n",
       "embarkedS   -0.667007   0.212722  -3.136  0.00172 ** \n",
       "---\n",
       "Signif. codes:  0 ‘***’ 0.001 ‘**’ 0.01 ‘*’ 0.05 ‘.’ 0.1 ‘ ’ 1\n",
       "\n",
       "(Dispersion parameter for binomial family taken to be 1)\n",
       "\n",
       "    Null deviance: 1411.03  on 1043  degrees of freedom\n",
       "Residual deviance:  954.65  on 1035  degrees of freedom\n",
       "AIC: 972.65\n",
       "\n",
       "Number of Fisher Scoring iterations: 5\n"
      ]
     },
     "metadata": {},
     "output_type": "display_data"
    }
   ],
   "source": [
    "summary(surv.all)"
   ]
  },
  {
   "cell_type": "code",
   "execution_count": 64,
   "metadata": {
    "collapsed": false
   },
   "outputs": [
    {
     "data": {
      "text/html": [
       "0"
      ],
      "text/latex": [
       "0"
      ],
      "text/markdown": [
       "0"
      ],
      "text/plain": [
       "[1] 0"
      ]
     },
     "metadata": {},
     "output_type": "display_data"
    }
   ],
   "source": [
    "1-pchisq(q=surv.all$null.deviance-surv.all$deviance,df=surv.all$df.null-surv.all$df.residual)"
   ]
  },
  {
   "cell_type": "code",
   "execution_count": 7,
   "metadata": {
    "collapsed": false
   },
   "outputs": [
    {
     "name": "stderr",
     "output_type": "stream",
     "text": [
      "Warning message:\n",
      "“package ‘car’ is not available (for R version 3.3.1)”"
     ]
    }
   ],
   "source": [
    "install.packages('car')"
   ]
  },
  {
   "cell_type": "code",
   "execution_count": 8,
   "metadata": {
    "collapsed": false
   },
   "outputs": [
    {
     "name": "stderr",
     "output_type": "stream",
     "text": [
      "Warning message:\n",
      "“package ‘car’ was built under R version 3.3.2”"
     ]
    }
   ],
   "source": [
    "library('car')"
   ]
  },
  {
   "cell_type": "code",
   "execution_count": 9,
   "metadata": {
    "collapsed": false
   },
   "outputs": [
    {
     "data": {
      "text/html": [
       "<table>\n",
       "<thead><tr><th></th><th scope=col>Df</th><th scope=col>Chisq</th><th scope=col>Pr(&gt;Chisq)</th></tr></thead>\n",
       "<tbody>\n",
       "\t<tr><th scope=row>pclass</th><td>2           </td><td> 76.8670430 </td><td>2.034856e-17</td></tr>\n",
       "\t<tr><th scope=row>sex</th><td>1           </td><td>212.4866365 </td><td>3.938828e-48</td></tr>\n",
       "\t<tr><th scope=row>age</th><td>1           </td><td> 32.4130809 </td><td>1.246446e-08</td></tr>\n",
       "\t<tr><th scope=row>sibsp</th><td>1           </td><td> 10.4668001 </td><td>1.215391e-03</td></tr>\n",
       "\t<tr><th scope=row>parch</th><td>1           </td><td>  0.2942706 </td><td>5.874967e-01</td></tr>\n",
       "\t<tr><th scope=row>embarked</th><td>2           </td><td> 14.6087890 </td><td>6.725766e-04</td></tr>\n",
       "</tbody>\n",
       "</table>\n"
      ],
      "text/latex": [
       "\\begin{tabular}{r|lll}\n",
       "  & Df & Chisq & Pr(>Chisq)\\\\\n",
       "\\hline\n",
       "\tpclass & 2            &  76.8670430  & 2.034856e-17\\\\\n",
       "\tsex & 1            & 212.4866365  & 3.938828e-48\\\\\n",
       "\tage & 1            &  32.4130809  & 1.246446e-08\\\\\n",
       "\tsibsp & 1            &  10.4668001  & 1.215391e-03\\\\\n",
       "\tparch & 1            &   0.2942706  & 5.874967e-01\\\\\n",
       "\tembarked & 2            &  14.6087890  & 6.725766e-04\\\\\n",
       "\\end{tabular}\n"
      ],
      "text/markdown": [
       "\n",
       "| <!--/--> | Df | Chisq | Pr(>Chisq) | \n",
       "|---|---|---|---|---|---|\n",
       "| pclass | 2            |  76.8670430  | 2.034856e-17 | \n",
       "| sex | 1            | 212.4866365  | 3.938828e-48 | \n",
       "| age | 1            |  32.4130809  | 1.246446e-08 | \n",
       "| sibsp | 1            |  10.4668001  | 1.215391e-03 | \n",
       "| parch | 1            |   0.2942706  | 5.874967e-01 | \n",
       "| embarked | 2            |  14.6087890  | 6.725766e-04 | \n",
       "\n",
       "\n"
      ],
      "text/plain": [
       "         Df Chisq       Pr(>Chisq)  \n",
       "pclass   2   76.8670430 2.034856e-17\n",
       "sex      1  212.4866365 3.938828e-48\n",
       "age      1   32.4130809 1.246446e-08\n",
       "sibsp    1   10.4668001 1.215391e-03\n",
       "parch    1    0.2942706 5.874967e-01\n",
       "embarked 2   14.6087890 6.725766e-04"
      ]
     },
     "metadata": {},
     "output_type": "display_data"
    }
   ],
   "source": [
    "Anova(surv.all,type=\"II\",test=\"Wald\")"
   ]
  },
  {
   "cell_type": "code",
   "execution_count": 47,
   "metadata": {
    "collapsed": false
   },
   "outputs": [
    {
     "name": "stdout",
     "output_type": "stream",
     "text": [
      "Start:  AIC=972.65\n",
      "survived ~ pclass + sex + age + sibsp + parch + embarked\n",
      "\n",
      "           Df Deviance     AIC\n",
      "- parch     1   954.95  970.95\n",
      "<none>          954.65  972.65\n",
      "- sibsp     1   966.00  982.00\n",
      "- embarked  2   969.52  983.52\n",
      "- age       1   989.44 1005.44\n",
      "- pclass    2  1040.05 1054.05\n",
      "- sex       1  1220.49 1236.49\n",
      "\n",
      "Step:  AIC=970.95\n",
      "survived ~ pclass + sex + age + sibsp + embarked\n",
      "\n",
      "           Df Deviance     AIC\n",
      "<none>          954.95  970.95\n",
      "- sibsp     1   966.30  980.30\n",
      "- embarked  2   970.09  982.09\n",
      "- age       1   990.03 1004.03\n",
      "- pclass    2  1040.22 1052.22\n",
      "- sex       1  1235.74 1249.74\n"
     ]
    }
   ],
   "source": [
    "surv.back <- step(surv.all, direction = 'backward')"
   ]
  },
  {
   "cell_type": "code",
   "execution_count": 48,
   "metadata": {
    "collapsed": false
   },
   "outputs": [
    {
     "data": {
      "text/plain": [
       "survived ~ pclass + sex + age + sibsp + embarked"
      ]
     },
     "metadata": {},
     "output_type": "display_data"
    }
   ],
   "source": [
    "formula(surv.back)"
   ]
  },
  {
   "cell_type": "code",
   "execution_count": 49,
   "metadata": {
    "collapsed": false
   },
   "outputs": [
    {
     "name": "stdout",
     "output_type": "stream",
     "text": [
      "Start:  AIC=1413.03\n",
      "survived ~ 1\n",
      "\n",
      "           Df Deviance    AIC\n",
      "+ sex       1   1100.9 1104.9\n",
      "+ pclass    2   1304.1 1310.1\n",
      "+ embarked  2   1358.5 1364.5\n",
      "+ parch     1   1397.2 1401.2\n",
      "+ age       1   1407.4 1411.4\n",
      "<none>          1411.0 1413.0\n",
      "+ sibsp     1   1410.9 1414.9\n",
      "\n",
      "Step:  AIC=1104.87\n",
      "survived ~ sex\n",
      "\n",
      "           Df Deviance    AIC\n",
      "+ pclass    2   1013.4 1021.4\n",
      "+ embarked  2   1050.6 1058.6\n",
      "+ sibsp     1   1094.7 1100.7\n",
      "<none>          1100.9 1104.9\n",
      "+ age       1   1100.1 1106.1\n",
      "+ parch     1   1100.8 1106.8\n",
      "\n",
      "Step:  AIC=1021.36\n",
      "survived ~ sex + pclass\n",
      "\n",
      "           Df Deviance    AIC\n",
      "+ age       1   981.80  991.8\n",
      "+ embarked  2   994.66 1006.7\n",
      "+ sibsp     1  1009.04 1019.0\n",
      "<none>         1013.36 1021.4\n",
      "+ parch     1  1013.29 1023.3\n",
      "\n",
      "Step:  AIC=991.8\n",
      "survived ~ sex + pclass + age\n",
      "\n",
      "           Df Deviance    AIC\n",
      "+ embarked  2   966.30 980.30\n",
      "+ sibsp     1   970.09 982.09\n",
      "<none>          981.80 991.80\n",
      "+ parch     1   981.66 993.66\n",
      "\n",
      "Step:  AIC=980.3\n",
      "survived ~ sex + pclass + age + embarked\n",
      "\n",
      "        Df Deviance    AIC\n",
      "+ sibsp  1   954.95 970.95\n",
      "<none>       966.30 980.30\n",
      "+ parch  1   966.00 982.00\n",
      "\n",
      "Step:  AIC=970.95\n",
      "survived ~ sex + pclass + age + embarked + sibsp\n",
      "\n",
      "        Df Deviance    AIC\n",
      "<none>       954.95 970.95\n",
      "+ parch  1   954.65 972.65\n"
     ]
    }
   ],
   "source": [
    "surv.forw <- step(surv.null, scope = list(lower=surv.null, upper=surv.all),\n",
    "direction = 'forward')"
   ]
  },
  {
   "cell_type": "code",
   "execution_count": 13,
   "metadata": {
    "collapsed": false
   },
   "outputs": [
    {
     "data": {
      "text/plain": [
       "survived ~ sex + pclass + age + embarked + sibsp"
      ]
     },
     "metadata": {},
     "output_type": "display_data"
    }
   ],
   "source": [
    "formula(surv.forw)"
   ]
  },
  {
   "cell_type": "code",
   "execution_count": 56,
   "metadata": {
    "collapsed": false
   },
   "outputs": [
    {
     "name": "stdout",
     "output_type": "stream",
     "text": [
      "Start:  AIC=1413.03\n",
      "survived ~ 1\n",
      "\n",
      "           Df Deviance    AIC\n",
      "+ sex       1   1100.9 1104.9\n",
      "+ pclass    2   1304.1 1310.1\n",
      "+ embarked  2   1358.5 1364.5\n",
      "+ parch     1   1397.2 1401.2\n",
      "+ age       1   1407.4 1411.4\n",
      "<none>          1411.0 1413.0\n",
      "+ sibsp     1   1410.9 1414.9\n",
      "\n",
      "Step:  AIC=1104.87\n",
      "survived ~ sex\n",
      "\n",
      "           Df Deviance    AIC\n",
      "+ pclass    2   1013.4 1021.4\n",
      "+ embarked  2   1050.6 1058.6\n",
      "+ sibsp     1   1094.7 1100.7\n",
      "<none>          1100.9 1104.9\n",
      "+ age       1   1100.1 1106.1\n",
      "+ parch     1   1100.8 1106.8\n",
      "- sex       1   1411.0 1413.0\n",
      "\n",
      "Step:  AIC=1021.36\n",
      "survived ~ sex + pclass\n",
      "\n",
      "           Df Deviance    AIC\n",
      "+ age       1   981.80  991.8\n",
      "+ embarked  2   994.66 1006.7\n",
      "+ sibsp     1  1009.04 1019.0\n",
      "<none>         1013.36 1021.4\n",
      "+ parch     1  1013.29 1023.3\n",
      "- pclass    2  1100.87 1104.9\n",
      "- sex       1  1304.07 1310.1\n",
      "\n",
      "Step:  AIC=991.8\n",
      "survived ~ sex + pclass + age\n",
      "\n",
      "           Df Deviance     AIC\n",
      "+ embarked  2   966.30  980.30\n",
      "+ sibsp     1   970.09  982.09\n",
      "<none>          981.80  991.80\n",
      "+ parch     1   981.66  993.66\n",
      "- age       1  1013.36 1021.36\n",
      "- pclass    2  1100.10 1106.10\n",
      "- sex       1  1253.18 1261.18\n",
      "\n",
      "Step:  AIC=980.3\n",
      "survived ~ sex + pclass + age + embarked\n",
      "\n",
      "           Df Deviance     AIC\n",
      "+ sibsp     1   954.95  970.95\n",
      "<none>          966.30  980.30\n",
      "+ parch     1   966.00  982.00\n",
      "- embarked  2   981.80  991.80\n",
      "- age       1   994.66 1006.66\n",
      "- pclass    2  1048.00 1058.00\n",
      "- sex       1  1237.96 1249.96\n",
      "\n",
      "Step:  AIC=970.95\n",
      "survived ~ sex + pclass + age + embarked + sibsp\n",
      "\n",
      "           Df Deviance     AIC\n",
      "<none>          954.95  970.95\n",
      "+ parch     1   954.65  972.65\n",
      "- sibsp     1   966.30  980.30\n",
      "- embarked  2   970.09  982.09\n",
      "- age       1   990.03 1004.03\n",
      "- pclass    2  1040.22 1052.22\n",
      "- sex       1  1235.74 1249.74\n"
     ]
    }
   ],
   "source": [
    "surv.step <- step(surv.null, scope = list(lower=surv.null, upper=surv.all),\n",
    "direction = 'both')"
   ]
  },
  {
   "cell_type": "code",
   "execution_count": 53,
   "metadata": {
    "collapsed": false
   },
   "outputs": [
    {
     "data": {
      "text/plain": [
       "survived ~ sibsp + sex + pclass + age + embarked"
      ]
     },
     "metadata": {},
     "output_type": "display_data"
    }
   ],
   "source": [
    "formula(surv.step)"
   ]
  },
  {
   "cell_type": "code",
   "execution_count": 71,
   "metadata": {
    "collapsed": true
   },
   "outputs": [],
   "source": [
    "df$pclass<-relevel(df$pclass,ref='3')\n",
    "df$sex<-relevel(df$sex,ref='male')\n",
    "df$survived <- relevel(df$survived, ref=\"0\")\n",
    "surv.mix<-glm(survived~pclass+sex+age+embarked+ sibsp,family=binomial,data=df)"
   ]
  },
  {
   "cell_type": "code",
   "execution_count": 72,
   "metadata": {
    "collapsed": false
   },
   "outputs": [
    {
     "data": {
      "text/plain": [
       "\n",
       "Call:\n",
       "glm(formula = survived ~ pclass + sex + age + embarked + sibsp, \n",
       "    family = binomial, data = df)\n",
       "\n",
       "Deviance Residuals: \n",
       "    Min       1Q   Median       3Q      Max  \n",
       "-2.5609  -0.6826  -0.4098   0.6564   2.5319  \n",
       "\n",
       "Coefficients:\n",
       "             Estimate Std. Error z value Pr(>|z|)    \n",
       "(Intercept) -0.385566   0.277095  -1.391 0.164086    \n",
       "pclass1      2.070791   0.238843   8.670  < 2e-16 ***\n",
       "pclass2      0.943706   0.202880   4.652 3.29e-06 ***\n",
       "sexfemale    2.633189   0.176378  14.929  < 2e-16 ***\n",
       "age         -0.038360   0.006708  -5.719 1.07e-08 ***\n",
       "embarkedQ   -1.471114   0.444631  -3.309 0.000938 ***\n",
       "embarkedS   -0.668673   0.212719  -3.143 0.001670 ** \n",
       "sibsp       -0.332367   0.103057  -3.225 0.001259 ** \n",
       "---\n",
       "Signif. codes:  0 ‘***’ 0.001 ‘**’ 0.01 ‘*’ 0.05 ‘.’ 0.1 ‘ ’ 1\n",
       "\n",
       "(Dispersion parameter for binomial family taken to be 1)\n",
       "\n",
       "    Null deviance: 1411.03  on 1043  degrees of freedom\n",
       "Residual deviance:  954.95  on 1036  degrees of freedom\n",
       "AIC: 970.95\n",
       "\n",
       "Number of Fisher Scoring iterations: 5\n"
      ]
     },
     "metadata": {},
     "output_type": "display_data"
    }
   ],
   "source": [
    "summary(surv.mix)"
   ]
  },
  {
   "cell_type": "markdown",
   "metadata": {},
   "source": [
    "Leonardo"
   ]
  },
  {
   "cell_type": "code",
   "execution_count": 39,
   "metadata": {
    "collapsed": false
   },
   "outputs": [
    {
     "data": {
      "text/html": [
       "0.139261174081413"
      ],
      "text/latex": [
       "0.139261174081413"
      ],
      "text/markdown": [
       "0.139261174081413"
      ],
      "text/plain": [
       "[1] 0.1392612"
      ]
     },
     "metadata": {},
     "output_type": "display_data"
    }
   ],
   "source": [
    "sigmoid(4.318413-2.070791-2.633189-20*0.038360-0.668673)"
   ]
  },
  {
   "cell_type": "markdown",
   "metadata": {},
   "source": [
    "Rose"
   ]
  },
  {
   "cell_type": "code",
   "execution_count": 70,
   "metadata": {
    "collapsed": false
   },
   "outputs": [
    {
     "data": {
      "text/html": [
       "0.904070517571363"
      ],
      "text/latex": [
       "0.904070517571363"
      ],
      "text/markdown": [
       "0.904070517571363"
      ],
      "text/plain": [
       "[1] 0.9040705"
      ]
     },
     "metadata": {},
     "output_type": "display_data"
    }
   ],
   "source": [
    "sigmoid(-0.385566+2.070791+2.633189-28*0.038360-0.668673-0.332367)"
   ]
  },
  {
   "cell_type": "code",
   "execution_count": 20,
   "metadata": {
    "collapsed": false
   },
   "outputs": [
    {
     "data": {
      "text/html": [
       "<strong>1:</strong> 0.12456437398166"
      ],
      "text/latex": [
       "\\textbf{1:} 0.12456437398166"
      ],
      "text/markdown": [
       "**1:** 0.12456437398166"
      ],
      "text/plain": [
       "        1 \n",
       "0.1245644 "
      ]
     },
     "metadata": {},
     "output_type": "display_data"
    }
   ],
   "source": [
    "newdata = data.frame(pclass = '3',age=20,sex='male')\n",
    "lin = predict(surv.mix, newdata)\n",
    "exp(lin)/(1+exp(lin))"
   ]
  },
  {
   "cell_type": "code",
   "execution_count": 21,
   "metadata": {
    "collapsed": false
   },
   "outputs": [
    {
     "data": {
      "text/html": [
       "<strong>1:</strong> 0.927582907804931"
      ],
      "text/latex": [
       "\\textbf{1:} 0.927582907804931"
      ],
      "text/markdown": [
       "**1:** 0.927582907804931"
      ],
      "text/plain": [
       "        1 \n",
       "0.9275829 "
      ]
     },
     "metadata": {},
     "output_type": "display_data"
    }
   ],
   "source": [
    "newdata = data.frame(pclass = '1',age=28,sex='female')\n",
    "lin = predict(surv.mix, newdata)\n",
    "exp(lin)/(1+exp(lin))"
   ]
  },
  {
   "cell_type": "code",
   "execution_count": 22,
   "metadata": {
    "collapsed": false
   },
   "outputs": [
    {
     "data": {
      "text/html": [
       "<dl class=dl-horizontal>\n",
       "\t<dt>1</dt>\n",
       "\t\t<dd>0.12456437398166</dd>\n",
       "\t<dt>2</dt>\n",
       "\t\t<dd>0.927582907804931</dd>\n",
       "</dl>\n"
      ],
      "text/latex": [
       "\\begin{description*}\n",
       "\\item[1] 0.12456437398166\n",
       "\\item[2] 0.927582907804931\n",
       "\\end{description*}\n"
      ],
      "text/markdown": [
       "1\n",
       ":   0.124564373981662\n",
       ":   0.927582907804931\n",
       "\n"
      ],
      "text/plain": [
       "        1         2 \n",
       "0.1245644 0.9275829 "
      ]
     },
     "metadata": {},
     "output_type": "display_data"
    }
   ],
   "source": [
    "newdata = data.frame(pclass = c('3','1'),age=c(20,28),sex=c('male','female'))\n",
    "lin = predict(surv.mix, newdata)\n",
    "exp(lin)/(1+exp(lin))"
   ]
  },
  {
   "cell_type": "code",
   "execution_count": null,
   "metadata": {
    "collapsed": true
   },
   "outputs": [],
   "source": []
  }
 ],
 "metadata": {
  "anaconda-cloud": {},
  "kernelspec": {
   "display_name": "R",
   "language": "R",
   "name": "ir"
  },
  "language_info": {
   "codemirror_mode": "r",
   "file_extension": ".r",
   "mimetype": "text/x-r-source",
   "name": "R",
   "pygments_lexer": "r",
   "version": "3.3.1"
  }
 },
 "nbformat": 4,
 "nbformat_minor": 1
}
