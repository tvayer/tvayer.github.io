{
 "cells": [
  {
   "cell_type": "markdown",
   "metadata": {},
   "source": [
    "# TD  1 : Régression logistique"
   ]
  },
  {
   "cell_type": "markdown",
   "metadata": {},
   "source": [
    "## Partie 1 : La fonction sigmoide"
   ]
  },
  {
   "cell_type": "markdown",
   "metadata": {},
   "source": [
    "### Q1 : Ecrire et tracer la fonction sigmoide $\\sigma(x)=e^{x}/(1+e^{x})$ entre -10 et 10"
   ]
  },
  {
   "cell_type": "code",
   "execution_count": null,
   "metadata": {
    "collapsed": true
   },
   "outputs": [],
   "source": [
    "sigmoid <- function(x) {\n",
    "  return %A COMPLETER%\n",
    "}"
   ]
  },
  {
   "cell_type": "markdown",
   "metadata": {},
   "source": [
    "LA fonction \"lapply\""
   ]
  },
  {
   "cell_type": "code",
   "execution_count": null,
   "metadata": {
    "collapsed": false
   },
   "outputs": [],
   "source": [
    "plot(%A COMPLETER%)"
   ]
  },
  {
   "cell_type": "markdown",
   "metadata": {},
   "source": [
    "### Données"
   ]
  },
  {
   "cell_type": "markdown",
   "metadata": {},
   "source": [
    "On va travailler sur des données artificielles. "
   ]
  },
  {
   "cell_type": "code",
   "execution_count": null,
   "metadata": {
    "collapsed": false
   },
   "outputs": [],
   "source": [
    "probas <- c(0.02, 0.03, 0.05, 0.05, 0.05, 0.05, 0.05, 0.09, 0.1, 0.18, 0.15, 0.18, 0.86, 0.82, 0.9, 0.88, 0.86, 0.95, 0.99, 0.99, 0.99, 0.99, 0.99, 0.99, 0.99)\n",
    "x <- c(1:length(probas))\n",
    "plot(x, probas, pch=19, cex=1, col='black', xlab = 'x', ylab = 'Probabilité')"
   ]
  },
  {
   "cell_type": "markdown",
   "metadata": {},
   "source": [
    "Elles peuvent représenter la probabilité d'un évènement en fonction du nombre de tirages de cet évènement. (ex : gagner au loto , avoir un cancer en fonction du nombre de cigarettes...). \n",
    "\n",
    "L'objectif va être de modéliser ces probabilités en fonction du nombre de tirage. On va donc essayer de trouver une fonction $f$ telle que $\\hat{p}(x)=f(x)$ approche au mieux les probabilités $p(x)$"
   ]
  },
  {
   "cell_type": "markdown",
   "metadata": {},
   "source": [
    "### Q2 : Faire une regression linéaire pour approcher au mieux les probabilités. Illustrer et commenter."
   ]
  },
  {
   "cell_type": "code",
   "execution_count": null,
   "metadata": {
    "collapsed": false
   },
   "outputs": [],
   "source": [
    "lin=lm(probas ~ x)\n",
    "plot(x,probas,pch=19,cex=1,col='black',xlab = 'Tirage',ylab = 'Probabilité')\n",
    "abline(lin,lwd=2,col='red')"
   ]
  },
  {
   "cell_type": "markdown",
   "metadata": {},
   "source": [
    "### Q3 : Essayer d'approcher les probabilités par $\\sigma(\\beta_{1}x+\\beta_{0})$"
   ]
  },
  {
   "cell_type": "markdown",
   "metadata": {},
   "source": [
    "Vous utiliserez la fonction \"lines\" et \"lapply\" de R:"
   ]
  },
  {
   "cell_type": "code",
   "execution_count": null,
   "metadata": {
    "collapsed": true
   },
   "outputs": [],
   "source": [
    "unlist(lapply(0.68*x-8, sigmoid))"
   ]
  },
  {
   "cell_type": "markdown",
   "metadata": {},
   "source": [
    "Afficher plusieurs courbes avec différents paramètre de $\\beta_{1},\\beta_{0}$"
   ]
  },
  {
   "cell_type": "markdown",
   "metadata": {},
   "source": [
    "### Q4 : Quel modèle avons-nous écrit ?"
   ]
  },
  {
   "cell_type": "code",
   "execution_count": null,
   "metadata": {
    "collapsed": true
   },
   "outputs": [],
   "source": []
  },
  {
   "cell_type": "markdown",
   "metadata": {},
   "source": [
    "## Partie 2 : La regression logistique"
   ]
  },
  {
   "cell_type": "markdown",
   "metadata": {},
   "source": [
    "La regression logistique utilise la fonction sigmoide. Au lieu de modéliser une probabilité brute $p(x)$, la regression logistique est utilisée en classification pour modéliser la probabilité d'appartenir à une classe. On note cette probabilité $p(C|x)$.\n",
    "\n",
    "Le modèle de regression logistique va modéliser $p(C|x)$ comme $\\hat{p}(C|x)=\\sigma(\\beta_{0}+\\beta_{1}x_{1}+...+\\beta_{p}x_{p})$ et va déterminer $\\beta_{0}$, $\\beta_{1}$,...,$\\beta_{p}$ qui vont le plus \"coller\" aux données."
   ]
  },
  {
   "cell_type": "markdown",
   "metadata": {},
   "source": [
    "### Q4 : Question sur l'équivalence des modèles.\n",
    "\n",
    "Montrez que les formulations $\\pi(x)=\\frac{exp(\\beta_{0}+\\beta_{1}x_{1}+...+\\beta_{p}x_{p})}{1+exp(\\beta_{0}+\\beta_{1}x_{1}+...+\\beta_{p}x_{p})}$ et $\\text{logit}(x)=\\log(\\frac{\\pi(x)}{1-\\pi(x)})=\\beta_{0}+\\beta_{1}x_{1}+...+\\beta_{p}x_{p}$ sont équivalentes."
   ]
  },
  {
   "cell_type": "markdown",
   "metadata": {},
   "source": [
    "## Cas parfaitement séparable"
   ]
  },
  {
   "cell_type": "markdown",
   "metadata": {},
   "source": [
    "On rajoute au cas précédent des classes (ex : on a effectivement gagné au lotto ou eu un cancer)."
   ]
  },
  {
   "cell_type": "code",
   "execution_count": null,
   "metadata": {
    "collapsed": false
   },
   "outputs": [],
   "source": [
    "clr1 <- c(rgb(1,0,0,1),rgb(0,0,1,1))\n",
    "probas <- c(0.02, 0.03, 0.05, 0.05, 0.05, 0.05, 0.05, 0.09, 0.1, 0.18, 0.15, 0.18, 0.86, 0.82, 0.9, 0.88, 0.86, 0.95, 0.99, 0.99, 0.99, 0.99, 0.99, 0.99, 0.99)\n",
    "y <- c(0,0,0,0,0,0,0,0,0,0,0,0,1,1,1,1,1,1,1,1,1,1,1,1,1)\n",
    "x <- c(1:length(probas))\n",
    "plot(x, probas, pch=19, cex=1, col=clr1[y+1], xlab = 'x', ylab = 'Probabilité')"
   ]
  },
  {
   "cell_type": "markdown",
   "metadata": {},
   "source": [
    "### Q4 : Pourquoi est-ce parfaitement séparable ?"
   ]
  },
  {
   "cell_type": "markdown",
   "metadata": {},
   "source": [
    "### Q5: Effectuer la regression logistique. Donnez les paramètres $\\beta_{1}$ et $\\beta_{0}$. Sont-ils valables ?"
   ]
  },
  {
   "cell_type": "code",
   "execution_count": null,
   "metadata": {
    "collapsed": false
   },
   "outputs": [],
   "source": [
    "reg=glm(y~x,family=binomial)\n",
    "summary(reg)\n",
    "reg$coefficients[1]\n",
    "reg$coefficients[2]"
   ]
  },
  {
   "cell_type": "markdown",
   "metadata": {},
   "source": [
    "### Q6 : Plotez la sigmoide associée à notre problème. Satisfaisant ?"
   ]
  },
  {
   "cell_type": "code",
   "execution_count": null,
   "metadata": {
    "collapsed": false
   },
   "outputs": [],
   "source": [
    "sigmoid(predict(reg))"
   ]
  },
  {
   "cell_type": "markdown",
   "metadata": {},
   "source": [
    "## Cas non parfaitement séparable\n"
   ]
  },
  {
   "cell_type": "markdown",
   "metadata": {},
   "source": [
    "### Q7 : Changez le problème en un problème non linéairement séparable"
   ]
  },
  {
   "cell_type": "markdown",
   "metadata": {},
   "source": [
    "### Q8 : Refaire la même démarche. Commentez."
   ]
  }
 ],
 "metadata": {
  "anaconda-cloud": {},
  "kernelspec": {
   "display_name": "R",
   "language": "R",
   "name": "ir"
  },
  "language_info": {
   "codemirror_mode": "r",
   "file_extension": ".r",
   "mimetype": "text/x-r-source",
   "name": "R",
   "pygments_lexer": "r",
   "version": "3.3.1"
  }
 },
 "nbformat": 4,
 "nbformat_minor": 1
}
